{
  "nbformat": 4,
  "nbformat_minor": 0,
  "metadata": {
    "colab": {
      "provenance": [],
      "gpuType": "T4"
    },
    "kernelspec": {
      "name": "python3",
      "display_name": "Python 3"
    },
    "language_info": {
      "name": "python"
    }
  },
  "cells": [
    {
      "cell_type": "code",
      "execution_count": null,
      "metadata": {
        "id": "B3hYqnJ5jvou"
      },
      "outputs": [],
      "source": [
        "import os\n",
        "import numpy as np\n",
        "import cv2\n",
        "import matplotlib.pyplot as plt\n",
        "import random\n",
        "from sklearn.model_selection import train_test_split\n",
        "from sklearn.svm import SVC"
      ]
    },
    {
      "cell_type": "code",
      "source": [
        "DIRECTORY = r\"/content/drive/MyDrive/leaf/Leaf_2\"\n",
        "##CATAGORIES = ['Strawberry_fresh','Strawberry_scrotch','Apple___Apple_scab','Apple___Black_rot','Apple___Cedar_apple_rust','Apple___healthy']\n",
        "CATAGORIES = ['Healthy_Leaf','Unhealthy_Leaf']"
      ],
      "metadata": {
        "id": "GHHfH4p7rZaa"
      },
      "execution_count": null,
      "outputs": []
    },
    {
      "cell_type": "code",
      "source": [
        "data = []\n",
        "\n",
        "for categories in CATAGORIES:\n",
        "    folder=os.path.join(DIRECTORY,categories)\n",
        "    print(folder)\n",
        "    label=CATAGORIES.index(categories)\n",
        "\n",
        "\n",
        "    for img in os.listdir(folder):\n",
        "        img=os.path.join(folder,img)\n",
        "        img_arr=cv2.imread(img)\n",
        "        img_arr=cv2.resize(img_arr,(100,100))\n",
        "        img_arr=np.array(img_arr).flatten()\n",
        "        data.append([img_arr,label])"
      ],
      "metadata": {
        "colab": {
          "base_uri": "https://localhost:8080/"
        },
        "id": "YpF59vsasHM1",
        "outputId": "378e0be6-07e1-4317-d902-5a8ca6af29d3"
      },
      "execution_count": null,
      "outputs": [
        {
          "output_type": "stream",
          "name": "stdout",
          "text": [
            "/content/drive/MyDrive/leaf/Leaf_2/Healthy_Leaf\n",
            "/content/drive/MyDrive/leaf/Leaf_2/Unhealthy_Leaf\n"
          ]
        }
      ]
    },
    {
      "cell_type": "code",
      "source": [
        "random.shuffle(data)"
      ],
      "metadata": {
        "id": "TQUHX43Ayp3V"
      },
      "execution_count": null,
      "outputs": []
    },
    {
      "cell_type": "code",
      "source": [
        "x=[]\n",
        "y=[]\n",
        "\n",
        "\n",
        "for features,label in data:\n",
        "    x.append(features)\n",
        "    y.append(label)"
      ],
      "metadata": {
        "id": "rO7bormIzdz4"
      },
      "execution_count": null,
      "outputs": []
    },
    {
      "cell_type": "code",
      "source": [
        "#X= np.array(x)\n",
        "#Y=np.array(y)"
      ],
      "metadata": {
        "id": "rQlAwykazzY7"
      },
      "execution_count": null,
      "outputs": []
    },
    {
      "cell_type": "code",
      "source": [
        "#X"
      ],
      "metadata": {
        "id": "oAQwznygz2as"
      },
      "execution_count": null,
      "outputs": []
    },
    {
      "cell_type": "code",
      "source": [
        "#X = X/255"
      ],
      "metadata": {
        "id": "b7cyOshuz3AE"
      },
      "execution_count": null,
      "outputs": []
    },
    {
      "cell_type": "code",
      "source": [
        "#X.shape"
      ],
      "metadata": {
        "id": "T-KF5koE0C5O"
      },
      "execution_count": null,
      "outputs": []
    },
    {
      "cell_type": "code",
      "source": [
        "xtrain, xtest, ytrain, ytest = train_test_split(x, y, test_size=0.25)"
      ],
      "metadata": {
        "id": "GMlAu-Oq03Q9"
      },
      "execution_count": null,
      "outputs": []
    },
    {
      "cell_type": "code",
      "source": [
        "model = SVC(C=1,kernel='poly',gamma= 'auto')\n",
        "\n",
        "history = model.fit(xtrain, ytrain)"
      ],
      "metadata": {
        "id": "sFPIywXF1rQ9"
      },
      "execution_count": null,
      "outputs": []
    },
    {
      "cell_type": "code",
      "source": [
        "prediction = model.predict(xtest)"
      ],
      "metadata": {
        "id": "eSOVPOrS2YUr"
      },
      "execution_count": null,
      "outputs": []
    },
    {
      "cell_type": "code",
      "source": [
        "accuracy = model.score(xtest,ytest)\n",
        "\n",
        "CATAGORIES = ['Healthy_Leaf','Unhealthy_Leaf']\n",
        "\n",
        "print('Accuracy: ', accuracy)\n",
        "\n",
        "print('Prediction is: ', CATAGORIES[prediction[0]])"
      ],
      "metadata": {
        "colab": {
          "base_uri": "https://localhost:8080/"
        },
        "id": "sxHshen42hQV",
        "outputId": "516a85cd-7008-4fc2-eb98-1a1d957aa093"
      },
      "execution_count": null,
      "outputs": [
        {
          "output_type": "stream",
          "name": "stdout",
          "text": [
            "Accuracy:  0.9308333333333333\n",
            "Prediction is:  Healthy_Leaf\n"
          ]
        }
      ]
    }
  ]
}